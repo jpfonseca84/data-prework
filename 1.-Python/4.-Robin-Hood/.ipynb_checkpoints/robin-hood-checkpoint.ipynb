{
 "cells": [
  {
   "cell_type": "markdown",
   "metadata": {},
   "source": [
    "<img src=\"https://bit.ly/2VnXWr2\" width=\"100\" align=\"left\"/>"
   ]
  },
  {
   "cell_type": "markdown",
   "metadata": {},
   "source": [
    "# Robin Hood\n",
    "Robin Hood has entered a competition to win the archery contest in Sherwood. With his bow and arrows, he needs to shoot on a target and try to hit as close as possible to the center.\n",
    "\n",
    "![](images/arrows.jpg)\n",
    "\n",
    "## Context\n",
    "In this challenge, the landing position of arrows shot by archers in the competition will be represented using 2-dimensional coordinates. \n",
    "\n",
    "In the 2-dimensional space, a point can be defined by a pair of values that correspond to the horizontal coordinate (x) and the vertical coordinate (y). For example, in our case, an arrow that hits the center of the archery target will land in position (0, 0) on the coordinate axes. \n",
    "\n",
    "The space can be divided into 4 zones (quadrants): Q1, Q2, Q3, Q4. If a point is in Q1, both its x coordinate and y coordinate are positive. Any point with a null x or y coordinate is considered to not belong to any quadrant. \n",
    "\n",
    "If you want to know more about the cartesian coordinate system, you can check this [link](https://en.wikipedia.org/wiki/Cartesian_coordinate_system). \n",
    "\n",
    "## Tools\n",
    "You don't necessarily need to use all the tools. Maybe you opt to use some of them or completely different ones, they are given to help you shape the exercise. Programming exercises can be solved in many different ways.\n",
    "* Data structures: **lists, sets, tuples**\n",
    "* Conditional statements: **if-elif-else**\n",
    "* Loop: **while/for**\n",
    "* Minimum (optional sorting)\n",
    "\n",
    "## Tasks\n",
    "Robin Hood has hit the following points:"
   ]
  },
  {
   "cell_type": "code",
   "execution_count": 1,
   "metadata": {},
   "outputs": [],
   "source": [
    "points = [(4, 5), (-0, 2), (4, 7), (1, -3), (3, -2), (4, 5), (3, 2), (5, 7), (-5, 7), (2, 2), (-4, 5), (0, -2),\n",
    "          (-4, 7), (-1, 3), (-3, 2), (-4, -5), (-3, 2), (5, 7), (5, 7), (2, 2), (9, 9), (-8, -9)]"
   ]
  },
  {
   "cell_type": "markdown",
   "metadata": {},
   "source": [
    "#### 1. Robin Hood is famous for hitting an arrow with another arrow. Find the coordinates of the points where an arrow hits another arrow."
   ]
  },
  {
   "cell_type": "code",
   "execution_count": 3,
   "metadata": {},
   "outputs": [
    {
     "name": "stdout",
     "output_type": "stream",
     "text": [
      "{(4, 5): 2, (5, 7): 3, (2, 2): 2, (-3, 2): 2}\n"
     ]
    }
   ],
   "source": [
    "doubleshots={}\n",
    "for i in points:\n",
    "    if points.count(i) > 1:\n",
    "        if i not in doubleshots:\n",
    "            doubleshots[i]=1\n",
    "        else:\n",
    "            doubleshots[i]+=1\n",
    "print(doubleshots)"
   ]
  },
  {
   "cell_type": "markdown",
   "metadata": {},
   "source": [
    "#### 2. Calculate how many arrows have fallen in each quadrant. \n",
    "**Note**: the arrows that fall in the axis (x=0 or y=0) don't belong to any quadrant."
   ]
  },
  {
   "cell_type": "code",
   "execution_count": 5,
   "metadata": {},
   "outputs": [
    {
     "name": "stdout",
     "output_type": "stream",
     "text": [
      "Q1 hits is: 10\n",
      "Q2 hits is: 2\n",
      "Q3 hits is: 6\n",
      "Q4 hits is: 2\n",
      "Not in quadrant is (coordinate includes zero): 2\n",
      "Bulleye hits is: 0\n"
     ]
    }
   ],
   "source": [
    "Q1counter=0\n",
    "Q2counter=0\n",
    "Q3counter=0\n",
    "Q4counter=0\n",
    "BEcounter=0\n",
    "NQcounter= 0\n",
    "\n",
    "for i in points:\n",
    "    if i[0]>0 and i[1]>0:\n",
    "        Q1counter += 1\n",
    "    elif i[0] >0 and i[1]<0:\n",
    "        Q2counter += 1\n",
    "    elif i[0] < 0 and i[1] > 0:\n",
    "        Q3counter += 1\n",
    "    elif i[0] < 0 and i [1] < 0:\n",
    "        Q4counter += 1\n",
    "    elif i[0] == 0 and i [1] ==0:\n",
    "        BEcounter += 1\n",
    "    else:\n",
    "        NQcounter +=1\n",
    "        \n",
    "print(\"Q1 hits is: \"+ str(Q1counter) + \n",
    "      \"\\nQ2 hits is: \"+ str(Q2counter)+ \n",
    "      \"\\nQ3 hits is: \"+ str(Q3counter)+ \n",
    "      \"\\nQ4 hits is: \" +str(Q4counter)+\n",
    "      \"\\nNot in quadrant is (coordinate includes zero): \"+ str(NQcounter)+\n",
    "      \"\\nBulleye hits is: \"+ str(BEcounter))"
   ]
  },
  {
   "cell_type": "markdown",
   "metadata": {},
   "source": [
    "#### 3. Find the point closest to the center. Calculate its distance to the center. \n",
    "Take into account that there might be more than one point at the minimum distance to the center.\n",
    "\n",
    "**Hint**: Use the Euclidean distance. You can find more information about it [here](https://en.wikipedia.org/wiki/Euclidean_distance).  \n",
    "**Hint**: Defining a function that calculates the distance to the center can help."
   ]
  },
  {
   "cell_type": "code",
   "execution_count": 6,
   "metadata": {},
   "outputs": [
    {
     "name": "stdout",
     "output_type": "stream",
     "text": [
      "Closest arrow to Bullseye is 2.0 units away.\n"
     ]
    }
   ],
   "source": [
    "def dist_calc (x,y):\n",
    "    dist=(x**2+y**2)**(1/2)\n",
    "    return dist\n",
    "\n",
    "dist_list=[]\n",
    "for i in points:\n",
    "    dist_list.append(dist_calc(i[0],i[1]))\n",
    "\n",
    "print(\"Closest arrow to Bullseye is \"+str(min(dist_list))+\" units away.\")"
   ]
  },
  {
   "cell_type": "markdown",
   "metadata": {},
   "source": [
    "#### 4. If the archery target has a radius of 9, calculate the number of arrows that won't hit the target. \n",
    "**Hint**: Use the function created in step 3. "
   ]
  },
  {
   "cell_type": "code",
   "execution_count": 7,
   "metadata": {},
   "outputs": [
    {
     "name": "stdout",
     "output_type": "stream",
     "text": [
      "Arrow number 20 didn't hit the target, passing at distance 12.727922061357855\n",
      "Arrow number 21 didn't hit the target, passing at distance 12.041594578792296\n"
     ]
    }
   ],
   "source": [
    "for i in dist_list:\n",
    "    if i > 9:\n",
    "        print (\"Arrow number \"+ str(dist_list.index(i))+ \" didn't hit the target, passing at distance \"+ str(i))"
   ]
  },
  {
   "cell_type": "code",
   "execution_count": null,
   "metadata": {},
   "outputs": [],
   "source": []
  }
 ],
 "metadata": {
  "kernelspec": {
   "display_name": "Python 3",
   "language": "python",
   "name": "python3"
  },
  "language_info": {
   "codemirror_mode": {
    "name": "ipython",
    "version": 3
   },
   "file_extension": ".py",
   "mimetype": "text/x-python",
   "name": "python",
   "nbconvert_exporter": "python",
   "pygments_lexer": "ipython3",
   "version": "3.7.4"
  }
 },
 "nbformat": 4,
 "nbformat_minor": 2
}
