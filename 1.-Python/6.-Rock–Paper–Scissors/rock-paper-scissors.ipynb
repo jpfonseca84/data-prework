{
 "cells": [
  {
   "cell_type": "markdown",
   "metadata": {},
   "source": [
    "<img src=\"https://bit.ly/2VnXWr2\" width=\"100\" align=\"left\">"
   ]
  },
  {
   "cell_type": "markdown",
   "metadata": {},
   "source": [
    "# Rock, Paper & Scissors\n",
    "\n",
    "Let's play the famous game against our computer. You can check the rules [here](https://en.wikipedia.org/wiki/Rock%E2%80%93paper%E2%80%93scissors). \n",
    "\n",
    "## Task\n",
    "Create a program that imitates the playability of the well known game of rock, paper, scissors. Follow the guidelines provided.\n",
    "\n",
    "## Tools\n",
    "1. Loop: **for/while**\n",
    "2. Functions: **input(), print()...**\n",
    "3. Conditional statements: **if, elif, else**\n",
    "4. Definition of functions. Modular programming\n",
    "5. Import modules\n",
    "\n",
    "**To solve this challenge, the use of functions is recommended.**\n",
    "\n",
    "#### 1. Import the choice function of the random module."
   ]
  },
  {
   "cell_type": "code",
   "execution_count": 1,
   "metadata": {},
   "outputs": [],
   "source": [
    "import random as rd"
   ]
  },
  {
   "cell_type": "markdown",
   "metadata": {},
   "source": [
    "#### 2. Create a list that includes the 3 possible gesture options of the game: 'rock', 'paper' or 'scissors'. Store the list in a variable called `gestures`."
   ]
  },
  {
   "cell_type": "code",
   "execution_count": 2,
   "metadata": {},
   "outputs": [],
   "source": [
    "gesture=[\"rock\",\"paper\",\"scissors\"]"
   ]
  },
  {
   "cell_type": "markdown",
   "metadata": {},
   "source": [
    "#### 3. Create a variable called `n_rounds` to store the maximum number of rounds to play in a game. \n",
    "Remember that the number of rounds must be odd: 1, 3, 5, ..."
   ]
  },
  {
   "cell_type": "code",
   "execution_count": 3,
   "metadata": {},
   "outputs": [],
   "source": [
    "n_rounds=3"
   ]
  },
  {
   "cell_type": "markdown",
   "metadata": {},
   "source": [
    "#### 4. Create a variable called `rounds_to_win` to store the number of rounds that a player must win to win the game.\n",
    "**Hint**: the value stored in `rounds_to_win` depends on the value of `n_rounds`. "
   ]
  },
  {
   "cell_type": "code",
   "execution_count": 4,
   "metadata": {},
   "outputs": [],
   "source": [
    "rounds_to_win=n_rounds/2+0.5"
   ]
  },
  {
   "cell_type": "markdown",
   "metadata": {},
   "source": [
    "#### 5. Create two variables to store the number of rounds that the computer and the player have won. Call these variables `cpu_score` and `player_score`."
   ]
  },
  {
   "cell_type": "code",
   "execution_count": 5,
   "metadata": {},
   "outputs": [],
   "source": [
    "cpu_score=0\n",
    "player_score=0"
   ]
  },
  {
   "cell_type": "markdown",
   "metadata": {},
   "source": [
    "#### 6. Define a function that randomly returns one of the 3 gesture options.\n",
    "   You will use this function to simulate the gesture choice of the computer. "
   ]
  },
  {
   "cell_type": "code",
   "execution_count": 6,
   "metadata": {},
   "outputs": [],
   "source": [
    "def rand_gesture (x=0,y=3):\n",
    "    x = rd.choice(range(x,y))\n",
    "    return gesture[x]"
   ]
  },
  {
   "cell_type": "markdown",
   "metadata": {},
   "source": [
    "#### 7. Define a function that asks the player which is the gesture he or she wants to show: 'rock', 'paper' or 'scissors'.\n",
    "The player should only be allowed to choose one of the 3 gesture options. If the player's choice is not rock, paper or scissors, keep asking until it is."
   ]
  },
  {
   "cell_type": "code",
   "execution_count": 7,
   "metadata": {},
   "outputs": [],
   "source": [
    "def player_gesture (x):\n",
    "    if x == \"r\":\n",
    "        return gesture[0]\n",
    "    elif x == \"p\":\n",
    "        return gesture[1]\n",
    "    elif x == \"s\":\n",
    "        return gesture[2]"
   ]
  },
  {
   "cell_type": "markdown",
   "metadata": {},
   "source": [
    "#### 8. Define a function that checks who won a round. \n",
    "The function should return 0 if there is a tie, 1 if the computer wins and 2 if the player wins."
   ]
  },
  {
   "cell_type": "code",
   "execution_count": 8,
   "metadata": {},
   "outputs": [],
   "source": [
    "def match (cpu, player):\n",
    "    print(\"CPU used \"+str(cpu)+\"\\nPlayer used \"+str(player))\n",
    "    if cpu == \"rock\":\n",
    "        if player == \"rock\":\n",
    "            return 0\n",
    "        elif player == \"paper\":\n",
    "            return 2\n",
    "        elif player == \"scissors\":\n",
    "            return 1\n",
    "    elif cpu == \"paper\":\n",
    "        if player == \"paper\":\n",
    "            return 0\n",
    "        elif player == \"rock\":\n",
    "            return 1\n",
    "        elif player == \"scissors\":\n",
    "            return 2\n",
    "    elif cpu == \"scissors\":\n",
    "        if player == \"scissors\":\n",
    "            return 0\n",
    "        elif player == \"paper\":\n",
    "            return 1\n",
    "        elif player == \"rock\":\n",
    "            return 2"
   ]
  },
  {
   "cell_type": "markdown",
   "metadata": {},
   "source": [
    "#### 9. Define a function that prints the choice of the computer, the choice of the player and a message that announces who won the current round. \n",
    "You should also use this function to update the variables that count the number of rounds that the computer and the player have won. The score of the winner increases by one point. If there is a tie, the score does not increase."
   ]
  },
  {
   "cell_type": "code",
   "execution_count": 9,
   "metadata": {},
   "outputs": [],
   "source": [
    "def printgame(cpu, player):\n",
    "    currentmatch = match(cpu,player) #generate one single match for the formula\n",
    "    if currentmatch == 1: \n",
    "        print(\" -----------CPU won!-----------\")\n",
    "        global cpu_score\n",
    "        cpu_score+=1\n",
    "    elif currentmatch == 2:\n",
    "        print(\"-----------Player won!-----------\")\n",
    "        global player_score\n",
    "        player_score+=1\n",
    "    else:\n",
    "        print(\"-----------It's a tie with a \"+str(cpu)+\"-----------\")"
   ]
  },
  {
   "cell_type": "markdown",
   "metadata": {},
   "source": [
    "\n",
    "#### 10. Now it's time to code the execution of the game using the functions and variables you defined above. \n",
    "\n",
    "First, create a loop structure that repeats while no player reaches the minimum score necessary to win and the number of rounds is less than the maximum number of rounds to play in a game.  \n",
    "\n",
    "Inside the loop, use the functions and variables above to create the execution of a round: ask for the player's choice, generate the random choice of the computer, show the round results, update the scores, etc. "
   ]
  },
  {
   "cell_type": "code",
   "execution_count": 10,
   "metadata": {},
   "outputs": [
    {
     "name": "stdout",
     "output_type": "stream",
     "text": [
      "define r for rock, p for paper or s for scissors: r\n",
      "CPU used paper\n",
      "Player used rock\n",
      " -----------CPU won!-----------\n",
      "define r for rock, p for paper or s for scissors: p\n",
      "CPU used scissors\n",
      "Player used paper\n",
      " -----------CPU won!-----------\n",
      "FINAL RESULT: CPU won with 2 wins!\n"
     ]
    }
   ],
   "source": [
    "cpu_score = 0\n",
    "player_score=0\n",
    "rounds=0\n",
    "\n",
    "while rounds < n_rounds:\n",
    "    pg = player_gesture(input(\"define r for rock, p for paper or s for scissors: \"))\n",
    "    if pg is None:\n",
    "        print(\"please select a valid input and try again\")\n",
    "        continue\n",
    "    cg = rand_gesture()\n",
    "    printgame(cg,pg)\n",
    "    rounds = cpu_score + player_score\n",
    "    if cpu_score == rounds_to_win:\n",
    "        print(\"FINAL RESULT: CPU won with \"+str(cpu_score)+\" wins!\")\n",
    "        break\n",
    "    if player_score == rounds_to_win:\n",
    "        print(\"FINAL RESULT: player won with \"+str(player_score)+\" wins!\")\n",
    "        break"
   ]
  },
  {
   "cell_type": "raw",
   "metadata": {},
   "source": [
    "#### 11. Print the winner of the game based on who won more rounds.\n",
    "Remember that the game might be tied. "
   ]
  },
  {
   "cell_type": "code",
   "execution_count": 11,
   "metadata": {},
   "outputs": [
    {
     "name": "stdout",
     "output_type": "stream",
     "text": [
      "2\n",
      "0\n"
     ]
    }
   ],
   "source": [
    "print(cpu_score)\n",
    "print(player_score)"
   ]
  },
  {
   "cell_type": "markdown",
   "metadata": {},
   "source": [
    "# Bonus: Rock, Paper, Scissors, Lizard & Spock\n",
    "![](images/rpsls.jpg)\n",
    "\n",
    "In this challenge, you need to improve the previous game by adding two new options. To know more about the rules of the improved version of rock, paper, scissors, check this [link](http://www.samkass.com/theories/RPSSL.html). \n",
    "\n",
    "In addition, you will also need to improve how the game interacts with the player: the number of rounds to play, which must be an odd number, will be requested to the user until a valid number is entered. Define a new function to make that request.\n",
    "\n",
    "**Hint**: Try to reuse the code that you already coded in the previous challenge. If your code is efficient, this bonus will only consist of simple modifications to the original game."
   ]
  },
  {
   "cell_type": "code",
   "execution_count": 13,
   "metadata": {},
   "outputs": [
    {
     "name": "stdout",
     "output_type": "stream",
     "text": [
      "Select odd number of rounds 1\n",
      "Write 'r' for rock, 'p' for paper', 's' for scissors  , 'l' lizard or 'sp'for spock: r\n",
      "CPU used spock\n",
      "Player used rock\n",
      " -----------CPU won!-----------\n",
      "FINAL RESULT: CPU won with 1 wins!\n"
     ]
    }
   ],
   "source": [
    "import random as rd\n",
    "gesture=[\"rock\",\"paper\",\"scissors\",\"lizard\",\"spock\"] #Gesture List\n",
    "cpu_score=0\n",
    "player_score=0\n",
    "rounds=0\n",
    "\n",
    "#computer gesture generator\n",
    "def rand_gesture (x=0,y=5):\n",
    "    x = rd.choice(range(x,y))\n",
    "    return gesture[x]\n",
    "\n",
    "#Obtain player's gesture\n",
    "def player_gesture (x):\n",
    "    if x == \"r\":\n",
    "        return gesture[0]\n",
    "    elif x == \"p\":\n",
    "        return gesture[1]\n",
    "    elif x == \"s\":\n",
    "        return gesture[2]\n",
    "    elif x == \"l\":\n",
    "        return gesture[3]\n",
    "    elif x == \"sp\":\n",
    "        return gesture [4]\n",
    "\n",
    "def match (cpu, player):\n",
    "    print(\"CPU used \"+str(cpu)+\"\\nPlayer used \"+str(player))\n",
    "    if cpu == \"rock\":\n",
    "        if player == \"paper\" or player == \"spock\":\n",
    "            return 2\n",
    "        elif player == \"scissors\" or player == \"lizard\":\n",
    "            return 1\n",
    "        else:\n",
    "            return 0\n",
    "    elif cpu == \"paper\":\n",
    "        if player == \"rock\" or player == \"spock\":\n",
    "            return 1\n",
    "        if player == \"scissors\" or player == \"lizard\":\n",
    "            return 2\n",
    "        else:\n",
    "            return 0\n",
    "    elif cpu == \"scissors\":\n",
    "        if player == \"paper\" or player == \"lizard\":\n",
    "            return 1\n",
    "        if player == \"rock\" or player == \"spock\":\n",
    "            return 2\n",
    "        else:\n",
    "            return 0\n",
    "    elif cpu == \"lizard\":\n",
    "        if player == \"paper\" or player ==\"spock\":\n",
    "            return 1\n",
    "        elif player == \"rock\" or player == \"scissors\":\n",
    "            return 2\n",
    "        else:\n",
    "            return 0\n",
    "    elif cpu == \"spock\":\n",
    "        if player == \"paper\" or player == \"lizard\":\n",
    "            return 2\n",
    "        elif player == \"rock\" or player == \"scissors\":\n",
    "            return 1\n",
    "        else:\n",
    "            return 0\n",
    "        \n",
    "def printgame(cpu, player):\n",
    "    currentmatch = match(cpu,player) #generate one single match for the formula\n",
    "    if currentmatch == 1: \n",
    "        print(\" -----------CPU won!-----------\")\n",
    "        global cpu_score\n",
    "        cpu_score+=1\n",
    "    elif currentmatch == 2:\n",
    "        print(\"-----------Player won!-----------\")\n",
    "        global player_score\n",
    "        player_score+=1\n",
    "    else:\n",
    "        print(\"-----------It's a tie with a \"+str(cpu)+\"-----------\")\n",
    "\n",
    "############## Game Code \n",
    "n_rounds = int( input( \"Select odd number of rounds \"))\n",
    "rounds_to_win = n_rounds/ 2+ 0.5\n",
    "#start checking if the rounds are odds\n",
    "if n_rounds % 2 == 0:\n",
    "    while n_rounds%2==0:\n",
    "        print(\"Please select an odd number\")\n",
    "        n_rounds = int( input( \"Select odd number of rounds \"))\n",
    "        \n",
    "\n",
    "while rounds < n_rounds:\n",
    "    #define the player gesture and asks correction if it is not valid\n",
    "    pg = player_gesture(input(\"Write \\'r\\' for rock, \\'p\\' for paper', \\'s\\' for scissors  , \\'l\\' lizard or \\'sp\\'for spock: \"))\n",
    "    if pg is None:\n",
    "        print(\"please select a valid input and try again\")\n",
    "        continue\n",
    "\n",
    "    # runs PC gesture\n",
    "    cg = rand_gesture()\n",
    "    #performs the match\n",
    "    printgame(cg,pg)\n",
    "    \n",
    "    #Calculate total of valid scores\n",
    "    rounds = cpu_score + player_score\n",
    "    \n",
    "    #finalize the rounds and identify the winner\n",
    "    if cpu_score == rounds_to_win:\n",
    "        print(\"FINAL RESULT: CPU won with \"+str(cpu_score)+\" wins!\")\n",
    "        break\n",
    "    if player_score == rounds_to_win:\n",
    "        print(\"FINAL RESULT: player won with \"+str(player_score)+\" wins!\")\n",
    "        break"
   ]
  },
  {
   "cell_type": "raw",
   "metadata": {},
   "source": []
  },
  {
   "cell_type": "code",
   "execution_count": null,
   "metadata": {},
   "outputs": [],
   "source": []
  }
 ],
 "metadata": {
  "kernelspec": {
   "display_name": "Python 3",
   "language": "python",
   "name": "python3"
  },
  "language_info": {
   "codemirror_mode": {
    "name": "ipython",
    "version": 3
   },
   "file_extension": ".py",
   "mimetype": "text/x-python",
   "name": "python",
   "nbconvert_exporter": "python",
   "pygments_lexer": "ipython3",
   "version": "3.7.4"
  }
 },
 "nbformat": 4,
 "nbformat_minor": 2
}
